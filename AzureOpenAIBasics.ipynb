{
 "cells": [
  {
   "cell_type": "markdown",
   "id": "b3f80e55",
   "metadata": {},
   "source": [
    "# Azure OpenAI & REST API Introduction"
   ]
  },
  {
   "cell_type": "markdown",
   "id": "e77fec8d",
   "metadata": {},
   "source": [
    "## Introduction to JSON\n",
    "- JSON stands for JavaScript Object Notation.\n",
    "- It's a lightweight data interchange format that is easy to read and write for humans and easy to parse and generate for machines.\n",
    "- JSON is used to exchange data between the client and the server in RESTful web services."
   ]
  },
  {
   "cell_type": "markdown",
   "id": "61c5e9a8",
   "metadata": {},
   "source": [
    "String: A string is a sequence of characters enclosed in double quotes. Here's an example:"
   ]
  },
  {
   "cell_type": "code",
   "execution_count": null,
   "id": "db2a9a40",
   "metadata": {},
   "outputs": [],
   "source": [
    "import json\n",
    "\n",
    "# Creating a JSON object with a string\n",
    "data = {\n",
    "    \"name\": \"John\",\n",
    "    \"city\": \"New York\"\n",
    "}\n",
    "\n",
    "# Encoding the JSON object to a string\n",
    "json_string = json.dumps(data)\n",
    "\n",
    "# Printing the JSON string\n",
    "print(json_string)"
   ]
  },
  {
   "cell_type": "markdown",
   "id": "07b2fdd0",
   "metadata": {},
   "source": [
    "Number: A number can be an integer or a floating-point number. Here's an example:"
   ]
  },
  {
   "cell_type": "code",
   "execution_count": null,
   "id": "cd29ab9d",
   "metadata": {},
   "outputs": [],
   "source": [
    "import json\n",
    "\n",
    "# Creating a JSON object with a number\n",
    "data = {\n",
    "    \"age\": 30,\n",
    "    \"height\": 1.75\n",
    "}\n",
    "\n",
    "# Encoding the JSON object to a string\n",
    "json_string = json.dumps(data)\n",
    "\n",
    "# Printing the JSON string\n",
    "print(json_string)"
   ]
  },
  {
   "cell_type": "markdown",
   "id": "7cf70fb5",
   "metadata": {},
   "source": [
    "Boolean: A boolean can be either true or false. Here's an example:"
   ]
  },
  {
   "cell_type": "code",
   "execution_count": null,
   "id": "5c70d342",
   "metadata": {},
   "outputs": [],
   "source": [
    "import json\n",
    "\n",
    "# Creating a JSON object with a boolean\n",
    "data = {\n",
    "    \"is_student\": True,\n",
    "    \"has_job\": False\n",
    "}\n",
    "\n",
    "# Encoding the JSON object to a string\n",
    "json_string = json.dumps(data)\n",
    "\n",
    "# Printing the JSON string\n",
    "print(json_string)"
   ]
  },
  {
   "cell_type": "markdown",
   "id": "50a9acc6",
   "metadata": {},
   "source": [
    "List: A list is an ordered collection of values enclosed in square brackets. Here's an example:"
   ]
  },
  {
   "cell_type": "code",
   "execution_count": null,
   "id": "3cff6352",
   "metadata": {},
   "outputs": [],
   "source": [
    "import json\n",
    "\n",
    "# Creating a JSON object with a list\n",
    "data = {\n",
    "    \"fruits\": [\"apple\", \"banana\", \"orange\"]\n",
    "}\n",
    "\n",
    "# Encoding the JSON object to a string\n",
    "json_string = json.dumps(data)\n",
    "\n",
    "# Printing the JSON string\n",
    "print(json_string)"
   ]
  },
  {
   "cell_type": "markdown",
   "id": "9d91b2a8",
   "metadata": {},
   "source": [
    "Object: An object is a collection of key-value pairs enclosed in curly braces. Here's an example:"
   ]
  },
  {
   "cell_type": "code",
   "execution_count": null,
   "id": "8443ebed",
   "metadata": {},
   "outputs": [],
   "source": [
    "import json\n",
    "\n",
    "# Creating a JSON object with an object\n",
    "data = {\n",
    "    \"person\": {\n",
    "        \"name\": \"John\",\n",
    "        \"age\": 30,\n",
    "        \"city\": \"New York\"\n",
    "    }\n",
    "}\n",
    "\n",
    "# Encoding the JSON object to a string\n",
    "json_string = json.dumps(data)\n",
    "\n",
    "# Printing the JSON string\n",
    "print(json_string)"
   ]
  },
  {
   "cell_type": "markdown",
   "id": "aedd50e9",
   "metadata": {},
   "source": [
    "An example of how to extract a value from a JSON object"
   ]
  },
  {
   "cell_type": "code",
   "execution_count": null,
   "id": "7be5a3bf",
   "metadata": {},
   "outputs": [],
   "source": [
    "import json\n",
    "\n",
    "# Creating a JSON object\n",
    "json_string = '{\"name\": \"John\", \"age\": 30, \"city\": \"New York\"}'\n",
    "json_object = json.loads(json_string)\n",
    "\n",
    "# Extracting a value from the JSON object\n",
    "name = json_object['name']\n",
    "age = json_object['age']\n",
    "city = json_object['city']\n",
    "\n",
    "# Printing the extracted values\n",
    "print(name)\n",
    "print(age)\n",
    "print(city)"
   ]
  },
  {
   "cell_type": "markdown",
   "id": "45aaa56a",
   "metadata": {},
   "source": [
    "## Introduction to REST API\n",
    "- REST stands for Representational State Transfer.\n",
    "- RESTful web services provide a way to communicate between the client and the server using HTTP.\n",
    "- RESTful web services use HTTP methods like GET, POST, PUT, DELETE, etc. to perform operations on the resources.\n",
    "- The resources in a RESTful web service are identified by URIs (Uniform Resource Identifiers)."
   ]
  },
  {
   "cell_type": "markdown",
   "id": "8c41bf33",
   "metadata": {},
   "source": [
    "### Example of GET method"
   ]
  },
  {
   "cell_type": "code",
   "execution_count": 5,
   "id": "302af211",
   "metadata": {},
   "outputs": [
    {
     "name": "stdout",
     "output_type": "stream",
     "text": [
      "Collecting requests\n",
      "  Downloading requests-2.31.0-py3-none-any.whl (62 kB)\n",
      "     ---------------------------------------- 62.6/62.6 kB 3.3 MB/s eta 0:00:00\n",
      "Collecting charset-normalizer<4,>=2\n",
      "  Downloading charset_normalizer-3.3.2-cp311-cp311-win_amd64.whl (99 kB)\n",
      "     ---------------------------------------- 99.9/99.9 kB 5.6 MB/s eta 0:00:00\n",
      "Collecting idna<4,>=2.5\n",
      "  Downloading idna-3.6-py3-none-any.whl (61 kB)\n",
      "     ---------------------------------------- 61.6/61.6 kB ? eta 0:00:00\n",
      "Collecting urllib3<3,>=1.21.1\n",
      "  Downloading urllib3-2.1.0-py3-none-any.whl (104 kB)\n",
      "     ---------------------------------------- 104.6/104.6 kB ? eta 0:00:00\n",
      "Collecting certifi>=2017.4.17\n",
      "  Downloading certifi-2023.11.17-py3-none-any.whl (162 kB)\n",
      "     ---------------------------------------- 162.5/162.5 kB ? eta 0:00:00\n",
      "Installing collected packages: urllib3, idna, charset-normalizer, certifi, requests\n",
      "Successfully installed certifi-2023.11.17 charset-normalizer-3.3.2 idna-3.6 requests-2.31.0 urllib3-2.1.0\n"
     ]
    },
    {
     "name": "stderr",
     "output_type": "stream",
     "text": [
      "\n",
      "[notice] A new release of pip available: 22.3.1 -> 23.3.2\n",
      "[notice] To update, run: python.exe -m pip install --upgrade pip\n"
     ]
    }
   ],
   "source": [
    "!pip install requests"
   ]
  },
  {
   "cell_type": "code",
   "execution_count": 9,
   "id": "172ed82a",
   "metadata": {},
   "outputs": [
    {
     "name": "stdout",
     "output_type": "stream",
     "text": [
      "200\n",
      "b'{\\n  \"args\": {}, \\n  \"headers\": {\\n    \"Accept\": \"*/*\", \\n    \"Accept-Encoding\": \"gzip, deflate\", \\n    \"Host\": \"httpbin.org\", \\n    \"User-Agent\": \"python-requests/2.31.0\", \\n    \"X-Amzn-Trace-Id\": \"Root=1-65a92b91-60e0546d20b5e78556b558a4\"\\n  }, \\n  \"origin\": \"42.200.181.76\", \\n  \"url\": \"https://httpbin.org/get\"\\n}\\n'\n"
     ]
    }
   ],
   "source": [
    "import requests\n",
    "\n",
    "# GET request to retrieve data\n",
    "response = requests.get('https://httpbin.org/get')\n",
    "\n",
    "# Print the response status code\n",
    "print(response.status_code)\n",
    "\n",
    "# Print the response content\n",
    "print(response.content)\n"
   ]
  },
  {
   "cell_type": "markdown",
   "id": "444ac629",
   "metadata": {},
   "source": [
    "### Example of POST method"
   ]
  },
  {
   "cell_type": "code",
   "execution_count": null,
   "id": "696b5069",
   "metadata": {},
   "outputs": [],
   "source": [
    "# POST request to submit data\n",
    "response = requests.post('https://httpbin.org/post', json={'key': 'value'})\n",
    "\n",
    "# Print the response status code\n",
    "print(response.status_code)\n",
    "\n",
    "# Print the response content\n",
    "print(response.content)"
   ]
  },
  {
   "cell_type": "markdown",
   "id": "3eedd55b",
   "metadata": {},
   "source": [
    "## Making an API call to Azure OpenAI API\n",
    "We will use the requests library to make an API call to the Azure OpenAI API.\n",
    "We will pass the API endpoint URL, headers, and payload in the request.\n",
    "The response will contain the completed text based on the provided prompt.\n",
    "Run the cell below to assign the variables."
   ]
  },
  {
   "cell_type": "code",
   "execution_count": 11,
   "id": "22aeb0eb",
   "metadata": {},
   "outputs": [],
   "source": [
    "API_KEY='f9be6d5f2dd94c0f9a8791027111e7be'\n",
    "API_URL='https://fevaworksopenai.openai.azure.com/openai/deployments/text-davinci-003/completions?api-version=2022-12-01'"
   ]
  },
  {
   "cell_type": "code",
   "execution_count": 1,
   "id": "600ba7fa",
   "metadata": {},
   "outputs": [],
   "source": [
    "exampleInput = 'The following conversation is with a Office 365 AI - O365AI.\\nO365AI will only answer the questions about Office 365.\\nUser: test'"
   ]
  },
  {
   "cell_type": "code",
   "execution_count": 8,
   "id": "cfea9e78",
   "metadata": {},
   "outputs": [
    {
     "name": "stdout",
     "output_type": "stream",
     "text": [
      "The following conversation is with a Office 365 AI - O365AI.\n",
      "O365AI will only answer the questions about Office 365.\n",
      "User: test\n"
     ]
    }
   ],
   "source": [
    "print(exampleInput)"
   ]
  },
  {
   "cell_type": "code",
   "execution_count": 12,
   "id": "d3617fb4",
   "metadata": {},
   "outputs": [
    {
     "name": "stdout",
     "output_type": "stream",
     "text": [
      "\n",
      "\n",
      "O365AI: I'm sorry, I don't understand. Please ask me a question about Office 365.\n"
     ]
    }
   ],
   "source": [
    "import requests\n",
    "import json\n",
    "\n",
    "# Set the API endpoint URL\n",
    "url = API_URL\n",
    "\n",
    "# Set the headers\n",
    "headers = {\n",
    "    \"Content-Type\": \"application/json\",\n",
    "    \"api-key\": API_KEY\n",
    "}\n",
    "\n",
    "# Set the payload\n",
    "payload = {\n",
    "    \"prompt\": exampleInput,\n",
    "    \"max_tokens\": 60,\n",
    "    \"temperature\": 0.7,\n",
    "    \"frequency_penalty\": 0,\n",
    "    \"presence_penalty\": 0,\n",
    "    \"top_p\": 1,\n",
    "    \"best_of\": 1,\n",
    "    \"stop\": None\n",
    "}\n",
    "\n",
    "# Make the API call\n",
    "response = requests.post(url, headers=headers, data=json.dumps(payload))\n",
    "\n",
    "# Print the completed text\n",
    "print(response.json()[\"choices\"][0][\"text\"])\n"
   ]
  },
  {
   "cell_type": "code",
   "execution_count": null,
   "id": "37a31a89",
   "metadata": {},
   "outputs": [],
   "source": []
  }
 ],
 "metadata": {
  "kernelspec": {
   "display_name": "Python 3 (ipykernel)",
   "language": "python",
   "name": "python3"
  },
  "language_info": {
   "codemirror_mode": {
    "name": "ipython",
    "version": 3
   },
   "file_extension": ".py",
   "mimetype": "text/x-python",
   "name": "python",
   "nbconvert_exporter": "python",
   "pygments_lexer": "ipython3",
   "version": "3.11.3"
  }
 },
 "nbformat": 4,
 "nbformat_minor": 5
}
